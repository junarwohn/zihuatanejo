{
 "cells": [
  {
   "cell_type": "code",
   "execution_count": 1,
   "id": "b60544a0-50c9-479c-bb27-4ae779131d36",
   "metadata": {},
   "outputs": [
    {
     "name": "stderr",
     "output_type": "stream",
     "text": [
      "One or more operators have not been tuned. Please tune your model for better performance. Use DEBUG logging level to see more details.\n"
     ]
    },
    {
     "name": "stdout",
     "output_type": "stream",
     "text": [
      "shape of input data : (1, 3, 224, 224)\n"
     ]
    }
   ],
   "source": [
    "import numpy as np\n",
    "\n",
    "from tvm import relay\n",
    "from tvm.relay import testing\n",
    "import tvm\n",
    "from tvm import te\n",
    "from tvm.contrib import graph_executor\n",
    "import tvm.testing\n",
    "\n",
    "batch_size = 1\n",
    "num_class = 1000\n",
    "image_shape = (3, 224, 224)\n",
    "data_shape = (batch_size,) + image_shape\n",
    "out_shape = (batch_size, num_class)\n",
    "\n",
    "mod, params = relay.testing.vgg.get_workload(\n",
    "    num_layers=16, batch_size=batch_size, image_shape=image_shape\n",
    "    )\n",
    "\n",
    "opt_level = 3\n",
    "target = tvm.target.cuda()\n",
    "with tvm.transform.PassContext(opt_level=opt_level):\n",
    "    lib = relay.build(mod, target, params=params)\n",
    "\n",
    "# create random input\n",
    "dev = tvm.cuda()\n",
    "data = np.random.uniform(-1, 1, size=data_shape).astype('float32')\n",
    "print(\"shape of input data :\", data.shape)\n",
    "\n",
    "# create module\n",
    "module = graph_executor.GraphModule(lib['default'](dev))\n",
    "\n",
    "# set input and parameter\n",
    "module.set_input('data', data)\n",
    "\n",
    "# run\n",
    "module.run()\n",
    "\n",
    "# get output\n",
    "out = module.get_output(0, tvm.nd.empty(out_shape)).asnumpy()\n",
    "\n"
   ]
  },
  {
   "cell_type": "code",
   "execution_count": 5,
   "id": "24f80d6f-9f72-480e-ae33-0f5ad9c41332",
   "metadata": {},
   "outputs": [
    {
     "data": {
      "text/plain": [
       "array([0.00100052, 0.00099585, 0.00099843, 0.00100801, 0.00099786,\n",
       "       0.00100267, 0.00100183, 0.00100203, 0.00099908, 0.0010008 ],\n",
       "      dtype=float32)"
      ]
     },
     "execution_count": 5,
     "metadata": {},
     "output_type": "execute_result"
    }
   ],
   "source": [
    "out.flatten()[0:10]"
   ]
  },
  {
   "cell_type": "code",
   "execution_count": 6,
   "id": "8df69af1-999f-4e58-afd9-7f6213a845d9",
   "metadata": {},
   "outputs": [
    {
     "name": "stdout",
     "output_type": "stream",
     "text": [
      "[0.00100052 0.00099585 0.00099843 0.00100801 0.00099786 0.00100267\n",
      " 0.00100183 0.00100203 0.00099908 0.0010008 ]\n",
      "['deploy_lib.tar']\n",
      "[0.00100052 0.00099585 0.00099843 0.00100801 0.00099786 0.00100267\n",
      " 0.00100183 0.00100203 0.00099908 0.0010008 ]\n"
     ]
    }
   ],
   "source": [
    "# print first 10 elements of output\n",
    "print(out.flatten()[0:10])\n",
    "\n",
    "from tvm.contrib import utils\n",
    "\n",
    "temp = utils.tempdir()\n",
    "path_lib = temp.relpath('deploy_lib.tar')\n",
    "lib.export_library(path_lib)\n",
    "print(temp.listdir())\n",
    "\n",
    "# load the module back.\n",
    "loaded_lib = tvm.runtime.load_module(path_lib)\n",
    "input_data = tvm.nd.array(data)\n",
    "\n",
    "module = graph_executor.GraphModule(loaded_lib['default'](dev))\n",
    "module.run(data=input_data)\n",
    "out_deploy = module.get_output(0).asnumpy()\n",
    "\n",
    "# print first 10 elements of output\n",
    "print(out_deploy.flatten()[0:10])\n",
    "\n",
    "# check whether the output from deployed module is consistent with original one\n",
    "tvm.testing.assert_allclose(out_deploy, out, atol=1e-5)\n"
   ]
  },
  {
   "cell_type": "code",
   "execution_count": null,
   "id": "bfbb3e73-f6b4-4bf9-80aa-29129a270e0e",
   "metadata": {},
   "outputs": [],
   "source": []
  }
 ],
 "metadata": {
  "kernelspec": {
   "display_name": "Python 3",
   "language": "python",
   "name": "python3"
  },
  "language_info": {
   "codemirror_mode": {
    "name": "ipython",
    "version": 3
   },
   "file_extension": ".py",
   "mimetype": "text/x-python",
   "name": "python",
   "nbconvert_exporter": "python",
   "pygments_lexer": "ipython3",
   "version": "3.8.10"
  }
 },
 "nbformat": 4,
 "nbformat_minor": 5
}
